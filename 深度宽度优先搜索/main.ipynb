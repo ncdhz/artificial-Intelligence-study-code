{
 "cells": [
  {
   "cell_type": "code",
   "execution_count": 31,
   "metadata": {},
   "outputs": [],
   "source": [
    "class List:\n",
    "    def __init__(self):\n",
    "        self.list = []\n",
    "    \n",
    "    def add(self, data):\n",
    "        self.list.append(data)\n",
    "        \n",
    "    def empty(self):\n",
    "        if len(self.list) > 0:\n",
    "            return False\n",
    "        return True\n",
    "    \n",
    "    def find(self, data):\n",
    "        for d in self.list:\n",
    "            if d == data:\n",
    "                return True\n",
    "        return False"
   ]
  },
  {
   "cell_type": "code",
   "execution_count": 32,
   "metadata": {},
   "outputs": [],
   "source": [
    "class Queue:\n",
    "    def __init__(self):\n",
    "        self.list = []\n",
    "    \n",
    "    def enqueue(self, data):\n",
    "        if data:\n",
    "            self.list.append(data)\n",
    "            \n",
    "    def empty(self):\n",
    "        if len(self.list) > 0:\n",
    "            return False\n",
    "        return True\n",
    "    \n",
    "    def dequeue(self):\n",
    "        if len(self.list) > 0:\n",
    "            return self.list.pop(0)\n",
    "        return False"
   ]
  },
  {
   "cell_type": "code",
   "execution_count": 33,
   "metadata": {},
   "outputs": [],
   "source": [
    "class Stack:\n",
    "    def __init__(self):\n",
    "        self.list = []\n",
    "        \n",
    "    def empty(self):\n",
    "        if len(self.list) > 0:\n",
    "            return False\n",
    "        return True\n",
    "    \n",
    "    def pop(self):\n",
    "        if len(self.list) > 0:\n",
    "            return self.list.pop()\n",
    "        return False\n",
    "    \n",
    "    def push(self, data):\n",
    "        if data:\n",
    "            self.list.append(data)"
   ]
  },
  {
   "cell_type": "code",
   "execution_count": 40,
   "metadata": {},
   "outputs": [],
   "source": [
    "class Node:\n",
    "    def __init__(self, data):\n",
    "        self.data = data\n",
    "        self.child_nodes = []\n",
    "    \n",
    "    def addNode(self, node):\n",
    "        self.child_nodes.append(node)\n",
    "    \n",
    "    def getData(self):\n",
    "        return self.data\n",
    "    \n",
    "    def findAllChildNode(self):\n",
    "        return self.child_nodes"
   ]
  },
  {
   "cell_type": "code",
   "execution_count": 46,
   "metadata": {},
   "outputs": [],
   "source": [
    "# 初始化节点树\n",
    "node1 = Node(1)\n",
    "node3 = Node(3)\n",
    "node2 = Node(2)\n",
    "node4 = Node(4)\n",
    "node5 = Node(5)\n",
    "node1.addNode(node3)\n",
    "node1.addNode(node2)\n",
    "node2.addNode(node5)\n",
    "node2.addNode(node4)"
   ]
  },
  {
   "cell_type": "code",
   "execution_count": 50,
   "metadata": {},
   "outputs": [
    {
     "name": "stdout",
     "output_type": "stream",
     "text": [
      "[1, 2, 4, 5, 3]\n",
      "[1, 3, 2, 5, 4]\n"
     ]
    }
   ],
   "source": [
    "class DFSAlgorithm:\n",
    "    \n",
    "    def __init__(self):\n",
    "        self.visits = []\n",
    "        self.lists = List()\n",
    "        \n",
    "    def visit(self, node):\n",
    "        self.visits.append(node.getData())\n",
    "    \n",
    "    def init(self):\n",
    "        self.visits = []\n",
    "        self.lists = List()\n",
    "    \n",
    "    def DFS1(self, Root):\n",
    "        stack = Stack()\n",
    "        stack.push(Root)\n",
    "        lists = List()\n",
    "        while not stack.empty():\n",
    "            node = stack.pop()\n",
    "            self.visit(node)\n",
    "            lists.add(node)\n",
    "            child_nodes = node.findAllChildNode()\n",
    "            for n in child_nodes:\n",
    "                if not lists.find(n):\n",
    "                    stack.push(n)\n",
    "    \n",
    "    def DFS2(self, node):\n",
    "        if not node:\n",
    "            return\n",
    "        if self.lists.find(node):\n",
    "            return\n",
    "        self.visit(node)\n",
    "        child_nodes = node.findAllChildNode()\n",
    "        for n in child_nodes:\n",
    "            self.DFS2(n)\n",
    "            \n",
    "    def printVisit(self):\n",
    "        print(self.visits)\n",
    "\n",
    "dfs = DFSAlgorithm()\n",
    "dfs.DFS1(node1)\n",
    "dfs.printVisit()\n",
    "dfs.init()\n",
    "dfs.DFS2(node1)\n",
    "dfs.printVisit()"
   ]
  },
  {
   "cell_type": "code",
   "execution_count": 52,
   "metadata": {},
   "outputs": [
    {
     "name": "stdout",
     "output_type": "stream",
     "text": [
      "[1, 3, 2, 5, 4]\n"
     ]
    }
   ],
   "source": [
    "class BFSAlgorithm:\n",
    "    def __init__(self):\n",
    "        self.visits = []\n",
    "        \n",
    "    def visit(self, node):\n",
    "        self.visits.append(node.getData())\n",
    "    \n",
    "    def init(self):\n",
    "        self.visits = []\n",
    "    \n",
    "    def BFS(self, Root):\n",
    "        queue = Queue()\n",
    "        queue.enqueue(Root)\n",
    "        lists = List()\n",
    "        while not queue.empty():\n",
    "            node = queue.dequeue()\n",
    "            self.visit(node)\n",
    "            lists.add(node)\n",
    "            child_nodes = node.findAllChildNode()\n",
    "            for n in child_nodes:\n",
    "                if not lists.find(n):\n",
    "                    queue.enqueue(n)\n",
    "                    \n",
    "    def printVisit(self):\n",
    "        print(self.visits)\n",
    "\n",
    "bfs = BFSAlgorithm()\n",
    "bfs.BFS(node1)\n",
    "bfs.printVisit()"
   ]
  },
  {
   "cell_type": "code",
   "execution_count": null,
   "metadata": {},
   "outputs": [],
   "source": []
  }
 ],
 "metadata": {
  "kernelspec": {
   "display_name": "Python 3",
   "language": "python",
   "name": "python3"
  },
  "language_info": {
   "codemirror_mode": {
    "name": "ipython",
    "version": 3
   },
   "file_extension": ".py",
   "mimetype": "text/x-python",
   "name": "python",
   "nbconvert_exporter": "python",
   "pygments_lexer": "ipython3",
   "version": "3.7.7"
  }
 },
 "nbformat": 4,
 "nbformat_minor": 4
}
