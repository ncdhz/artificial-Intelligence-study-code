{
 "cells": [
  {
   "cell_type": "code",
   "execution_count": 1,
   "metadata": {},
   "outputs": [],
   "source": [
    "import numpy as np\n",
    "import pandas as pd"
   ]
  },
  {
   "cell_type": "code",
   "execution_count": 2,
   "metadata": {},
   "outputs": [],
   "source": [
    "# 每个参数的信息可以参考command_line\n",
    "class QLearningTable:\n",
    "    def __init__(self, actions, learning_rate=0.01, reward_decay=0.9, e_greedy=0.9):\n",
    "        self.actions = actions\n",
    "        self.lr = learning_rate\n",
    "        self.gamma = reward_decay\n",
    "        self.epsilon = e_greedy\n",
    "        self.q_table = pd.DataFrame(columns=self.actions, dtype=np.float64)\n",
    "    \n",
    "    def check_state_exist(self, state):\n",
    "        # self.q_table.index self.q_table的name列表\n",
    "        if state not in self.q_table.index:\n",
    "            self.q_table = self.q_table.append(\n",
    "                pd.Series(\n",
    "                    [0] * len(self.actions),\n",
    "                    index=self.q_table.columns,\n",
    "                    name=state\n",
    "                )\n",
    "            )\n",
    "    \n",
    "    def choose_action(self, observation):\n",
    "        # q_table 表中不存在就添加到表中\n",
    "        self.check_state_exist(observation)\n",
    "        # action selection\n",
    "        if np.random.uniform() < self.epsilon:\n",
    "            # 提取要操作的表中的某一行\n",
    "            state_action = self.q_table.loc[observation, :]\n",
    "            # 获取数据最大的那列的名字\n",
    "            action = np.random.choice(\n",
    "                state_action[state_action == np.max(state_action)].index\n",
    "            )\n",
    "        else:\n",
    "            action = np.random.choice(self.actions)\n",
    "        return action\n",
    "    \n",
    "    def learn(self, s, a, r, s_):\n",
    "        self.check_state_exist(s_)\n",
    "        q_predict = self.q_table.loc[s, a]\n",
    "        if s_ != 'terminal':\n",
    "            q_target = r + self.gamma * self.q_table.loc[s_, :].max()\n",
    "        else:\n",
    "            q_target = r\n",
    "        self.q_table.loc[s, a] += self.lr * (q_target - q_predict)\n",
    "    \n",
    "    def get_q_table(self):\n",
    "        return self.q_table"
   ]
  },
  {
   "cell_type": "code",
   "execution_count": 3,
   "metadata": {},
   "outputs": [],
   "source": [
    "from maze_env import Maze\n",
    "def update(env, RL):\n",
    "    def __update():\n",
    "        for episode in range(100):\n",
    "            # initial observation\n",
    "            observation = env.reset()\n",
    "            done = False\n",
    "            while not done:\n",
    "                # fresh env\n",
    "                env.render()\n",
    "                \n",
    "                # RL choose action based on observation\n",
    "                action = RL.choose_action(str(observation))\n",
    "                \n",
    "                # RL take action and get next observation and reward\n",
    "                observation_, reward, done = env.step(action)\n",
    "                \n",
    "                # RL learn from this transition\n",
    "                RL.learn(str(observation), action, reward, str(observation_))\n",
    "                \n",
    "                # swap observation\n",
    "                observation = observation_\n",
    "        print(RL.get_q_table())\n",
    "        # end of game\n",
    "        print('game over')\n",
    "        env.destroy()\n",
    "    return __update"
   ]
  },
  {
   "cell_type": "code",
   "execution_count": 4,
   "metadata": {},
   "outputs": [
    {
     "name": "stdout",
     "output_type": "stream",
     "text": [
      "                                         0             1         2  \\\n",
      "[5.0, 5.0, 35.0, 35.0]        2.140944e-08  0.000000e+00  0.000191   \n",
      "[5.0, 45.0, 35.0, 75.0]       4.092930e-08  0.000000e+00  0.000000   \n",
      "[45.0, 45.0, 75.0, 75.0]      2.660600e-05 -1.000000e-02 -0.010000   \n",
      "[5.0, 85.0, 35.0, 115.0]      0.000000e+00  0.000000e+00 -0.019900   \n",
      "terminal                      0.000000e+00  0.000000e+00  0.000000   \n",
      "[45.0, 5.0, 75.0, 35.0]       8.504021e-07  4.326395e-07  0.001478   \n",
      "[85.0, 5.0, 115.0, 35.0]      0.000000e+00 -2.970100e-02  0.008865   \n",
      "[125.0, 5.0, 155.0, 35.0]     3.913328e-04  4.574411e-02  0.000231   \n",
      "[125.0, 45.0, 155.0, 75.0]    2.503339e-05  1.863033e-01  0.001026   \n",
      "[125.0, 85.0, 155.0, 115.0]   2.178963e-05  0.000000e+00  0.006261   \n",
      "[5.0, 125.0, 35.0, 155.0]     0.000000e+00  0.000000e+00  0.000000   \n",
      "[45.0, 125.0, 75.0, 155.0]   -1.000000e-02  0.000000e+00  0.000090   \n",
      "[125.0, 125.0, 155.0, 155.0]  0.000000e+00  0.000000e+00  0.000000   \n",
      "[85.0, 125.0, 115.0, 155.0]   2.970100e-02  0.000000e+00  0.000000   \n",
      "\n",
      "                                         3  \n",
      "[5.0, 5.0, 35.0, 35.0]        2.181889e-12  \n",
      "[5.0, 45.0, 35.0, 75.0]       0.000000e+00  \n",
      "[45.0, 45.0, 75.0, 75.0]      0.000000e+00  \n",
      "[5.0, 85.0, 35.0, 115.0]      0.000000e+00  \n",
      "terminal                      0.000000e+00  \n",
      "[45.0, 5.0, 75.0, 35.0]       1.074483e-06  \n",
      "[85.0, 5.0, 115.0, 35.0]      2.094202e-05  \n",
      "[125.0, 5.0, 155.0, 35.0]     5.219100e-05  \n",
      "[125.0, 45.0, 155.0, 75.0]   -4.900995e-02  \n",
      "[125.0, 85.0, 155.0, 115.0]   5.701110e-01  \n",
      "[5.0, 125.0, 35.0, 155.0]     0.000000e+00  \n",
      "[45.0, 125.0, 75.0, 155.0]    0.000000e+00  \n",
      "[125.0, 125.0, 155.0, 155.0]  1.791000e-04  \n",
      "[85.0, 125.0, 115.0, 155.0]   0.000000e+00  \n",
      "game over\n"
     ]
    }
   ],
   "source": [
    "env = Maze()\n",
    "RL = QLearningTable(actions=list(range(env.n_actions)))\n",
    "env.after(100, update(env, RL))\n",
    "env.mainloop()"
   ]
  },
  {
   "cell_type": "code",
   "execution_count": null,
   "metadata": {},
   "outputs": [],
   "source": []
  }
 ],
 "metadata": {
  "kernelspec": {
   "display_name": "Python 3.8.5 ('base')",
   "language": "python",
   "name": "python3"
  },
  "language_info": {
   "codemirror_mode": {
    "name": "ipython",
    "version": 3
   },
   "file_extension": ".py",
   "mimetype": "text/x-python",
   "name": "python",
   "nbconvert_exporter": "python",
   "pygments_lexer": "ipython3",
   "version": "3.8.5"
  },
  "vscode": {
   "interpreter": {
    "hash": "41012682a26ab7523e1c2229b30ca43de5762a175f7ae25c25f2d59b0d2e0e1c"
   }
  }
 },
 "nbformat": 4,
 "nbformat_minor": 4
}
