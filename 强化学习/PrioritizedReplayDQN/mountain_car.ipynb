{
 "cells": [
  {
   "cell_type": "code",
   "execution_count": 1,
   "metadata": {},
   "outputs": [],
   "source": [
    "from dqn_prioritized_replay import DQNPrioritizedReplay\n",
    "import gym"
   ]
  },
  {
   "cell_type": "code",
   "execution_count": 2,
   "metadata": {},
   "outputs": [],
   "source": [
    "env = gym.make('MountainCar-v0')\n",
    "env = env.unwrapped"
   ]
  },
  {
   "cell_type": "code",
   "execution_count": 3,
   "metadata": {},
   "outputs": [],
   "source": [
    "MEMORY_SIZE = 30000\n",
    "RL = DQNPrioritizedReplay(n_actions=env.action_space.n, n_features=env.observation_space.shape[0], learning_rate=0.001, e_greedy=0.9, replace_target_iter=300, memory_size=MEMORY_SIZE, e_greedy_increment=0.00005)"
   ]
  },
  {
   "cell_type": "code",
   "execution_count": 4,
   "metadata": {},
   "outputs": [
    {
     "name": "stdout",
     "output_type": "stream",
     "text": [
      "Epi:  0 | Get | Ep_r:  -3314.0 | Epsilon:  0\n"
     ]
    }
   ],
   "source": [
    "total_steps = 0\n",
    "for i_episode in range(20):\n",
    "\n",
    "    observation = env.reset()\n",
    "    ep_r = 0\n",
    "    while True:\n",
    "        if total_steps > MEMORY_SIZE:\n",
    "            env.render()\n",
    "\n",
    "        action = RL.choose_action(observation)\n",
    "\n",
    "        observation_, reward, done, _ = env.step(action)\n",
    "\n",
    "        if done: \n",
    "            reward = 10\n",
    "\n",
    "        RL.store_transition(observation, action, reward, observation_)\n",
    "\n",
    "        if total_steps > MEMORY_SIZE:\n",
    "            RL.learn()\n",
    "\n",
    "        ep_r += reward\n",
    "        if done:\n",
    "            get = '| Get' if observation_[0] >= env.unwrapped.goal_position else '| ----'\n",
    "            print('Epi: ', i_episode,\n",
    "                  get,\n",
    "                  '| Ep_r: ', round(ep_r, 4),\n",
    "                  '| Epsilon: ', round(RL.epsilon, 2))\n",
    "            break\n",
    "\n",
    "        observation = observation_\n",
    "        total_steps += 1\n",
    "env.close()\n",
    "RL.plot_cost()"
   ]
  }
 ],
 "metadata": {
  "kernelspec": {
   "display_name": "Python 3.8.5 ('base')",
   "language": "python",
   "name": "python3"
  },
  "language_info": {
   "codemirror_mode": {
    "name": "ipython",
    "version": 3
   },
   "file_extension": ".py",
   "mimetype": "text/x-python",
   "name": "python",
   "nbconvert_exporter": "python",
   "pygments_lexer": "ipython3",
   "version": "3.8.5"
  },
  "orig_nbformat": 4,
  "vscode": {
   "interpreter": {
    "hash": "41012682a26ab7523e1c2229b30ca43de5762a175f7ae25c25f2d59b0d2e0e1c"
   }
  }
 },
 "nbformat": 4,
 "nbformat_minor": 2
}
