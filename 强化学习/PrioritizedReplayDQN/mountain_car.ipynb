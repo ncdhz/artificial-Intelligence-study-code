{
 "cells": [
  {
   "cell_type": "code",
   "execution_count": 1,
   "metadata": {},
   "outputs": [],
   "source": [
    "from dqn_prioritized_replay import DQNPrioritizedReplay\n",
    "import gym"
   ]
  },
  {
   "cell_type": "code",
   "execution_count": 2,
   "metadata": {},
   "outputs": [],
   "source": [
    "env = gym.make('MountainCar-v0')\n",
    "env = env.unwrapped"
   ]
  },
  {
   "cell_type": "code",
   "execution_count": 3,
   "metadata": {},
   "outputs": [],
   "source": [
    "MEMORY_SIZE = 10000\n",
    "RL = DQNPrioritizedReplay(n_actions=env.action_space.n, n_features=env.observation_space.shape[0], learning_rate=0.01, e_greedy=0.9, replace_target_iter=300, memory_size=MEMORY_SIZE, e_greedy_increment=0.00005)"
   ]
  },
  {
   "cell_type": "code",
   "execution_count": 4,
   "metadata": {},
   "outputs": [
    {
     "name": "stdout",
     "output_type": "stream",
     "text": [
      "Epi:  0 | Get | Ep_r:  -7690.0 | Epsilon:  0\n",
      "Epi:  1 | Get | Ep_r:  -11082.0 | Epsilon:  0.44\n",
      "Epi:  2 | Get | Ep_r:  -4202.0 | Epsilon:  0.65\n",
      "Epi:  3 | Get | Ep_r:  -573.0 | Epsilon:  0.68\n",
      "Epi:  4 | Get | Ep_r:  -1512.0 | Epsilon:  0.76\n",
      "Epi:  5 | Get | Ep_r:  -1245.0 | Epsilon:  0.82\n",
      "Epi:  6 | Get | Ep_r:  -363.0 | Epsilon:  0.84\n",
      "Epi:  7 | Get | Ep_r:  -588.0 | Epsilon:  0.87\n",
      "Epi:  8 | Get | Ep_r:  -379.0 | Epsilon:  0.89\n",
      "Epi:  9 | Get | Ep_r:  -935.0 | Epsilon:  0.9\n",
      "Epi:  10 | Get | Ep_r:  -455.0 | Epsilon:  0.9\n",
      "Epi:  11 | Get | Ep_r:  -484.0 | Epsilon:  0.9\n",
      "Epi:  12 | Get | Ep_r:  -284.0 | Epsilon:  0.9\n",
      "Epi:  13 | Get | Ep_r:  -440.0 | Epsilon:  0.9\n",
      "Epi:  14 | Get | Ep_r:  -570.0 | Epsilon:  0.9\n",
      "Epi:  15 | Get | Ep_r:  -602.0 | Epsilon:  0.9\n",
      "Epi:  16 | Get | Ep_r:  -823.0 | Epsilon:  0.9\n",
      "Epi:  17 | Get | Ep_r:  -473.0 | Epsilon:  0.9\n",
      "Epi:  18 | Get | Ep_r:  -275.0 | Epsilon:  0.9\n",
      "Epi:  19 | Get | Ep_r:  -507.0 | Epsilon:  0.9\n"
     ]
    },
    {
     "data": {
      "image/png": "[encoded data removed]",
      "text/plain": [
       "<Figure size 432x288 with 1 Axes>"
      ]
     },
     "metadata": {
      "needs_background": "light"
     },
     "output_type": "display_data"
    }
   ],
   "source": [
    "total_steps = 0\n",
    "for i_episode in range(20):\n",
    "\n",
    "    observation = env.reset()\n",
    "    ep_r = 0\n",
    "    while True:\n",
    "        if total_steps > MEMORY_SIZE:\n",
    "            env.render()\n",
    "\n",
    "        action = RL.choose_action(observation)\n",
    "\n",
    "        observation_, reward, done, _ = env.step(action)\n",
    "\n",
    "        if done: \n",
    "            reward = 10\n",
    "\n",
    "        RL.store_transition(observation, action, reward, observation_)\n",
    "\n",
    "        if total_steps > MEMORY_SIZE:\n",
    "            RL.learn()\n",
    "\n",
    "        ep_r += reward\n",
    "        if done:\n",
    "            get = '| Get' if observation_[0] >= env.unwrapped.goal_position else '| ----'\n",
    "            print('Epi: ', i_episode,\n",
    "                  get,\n",
    "                  '| Ep_r: ', round(ep_r, 4),\n",
    "                  '| Epsilon: ', round(RL.epsilon, 2))\n",
    "            break\n",
    "\n",
    "        observation = observation_\n",
    "        total_steps += 1\n",
    "env.close()\n",
    "RL.plot_cost()"
   ]
  }
 ],
 "metadata": {
  "kernelspec": {
   "display_name": "Python 3.8.5 ('base')",
   "language": "python",
   "name": "python3"
  },
  "language_info": {
   "codemirror_mode": {
    "name": "ipython",
    "version": 3
   },
   "file_extension": ".py",
   "mimetype": "text/x-python",
   "name": "python",
   "nbconvert_exporter": "python",
   "pygments_lexer": "ipython3",
   "version": "3.8.5"
  },
  "orig_nbformat": 4,
  "vscode": {
   "interpreter": {
    "hash": "41012682a26ab7523e1c2229b30ca43de5762a175f7ae25c25f2d59b0d2e0e1c"
   }
  }
 },
 "nbformat": 4,
 "nbformat_minor": 2
}
