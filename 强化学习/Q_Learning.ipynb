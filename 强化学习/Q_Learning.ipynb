{
 "cells": [
  {
   "cell_type": "code",
   "execution_count": 3,
   "metadata": {},
   "outputs": [],
   "source": [
    "import numpy as np\n",
    "import pandas as pd"
   ]
  },
  {
   "cell_type": "code",
   "execution_count": 4,
   "metadata": {},
   "outputs": [],
   "source": [
    "# This part of code is the Q learning brain, which is a brain of the agent.\n",
    "# All decisions are made in here."
   ]
  },
  {
   "cell_type": "code",
   "execution_count": 5,
   "metadata": {},
   "outputs": [],
   "source": [
    "# 每个参数的信息可以参考command_line\n",
    "class QLearningTable:\n",
    "    def __init__(self, actions, learning_rate=0.01, reward_decay=0.9, e_greedy=0.9):\n",
    "        self.actions = actions\n",
    "        self.lr = learning_rate\n",
    "        self.gamma = reward_decay\n",
    "        self.epsilon = e_greedy\n",
    "        self.q_table = pd.DataFrame(columns=self.actions, dtype=np.float64)\n",
    "    \n",
    "    def check_state_exist(self, state):\n",
    "        # self.q_table.index self.q_table的name列表\n",
    "        if state not in self.q_table.index:\n",
    "            self.q_table = self.q_table.append(\n",
    "                pd.Series(\n",
    "                    [0] * len(self.actions),\n",
    "                    index=self.q_table.columns,\n",
    "                    name=state\n",
    "                )\n",
    "            )\n",
    "    \n",
    "    def choose_action(self, observation):\n",
    "        # q_table 表中不存在就添加到表中\n",
    "        self.check_state_exist(observation)\n",
    "        # action selection\n",
    "        if np.random.uniform() < self.epsilon:\n",
    "            # 提取要操作的表中的某一行\n",
    "            state_action = self.q_table.loc[observation, :]\n",
    "            # 获取数据最大的那列的名字\n",
    "            action = np.random.choice(\n",
    "                state_action[state_action == np.max(state_action)].index\n",
    "            )\n",
    "        else:\n",
    "            action = np.random.choice(self.actions)\n",
    "        return action\n",
    "    \n",
    "    def learn(self, s, a, r, s_):\n",
    "        self.check_state_exist(s_)\n",
    "        q_predict = self.q_table.loc[s, a]\n",
    "        if s_ != 'terminal':\n",
    "            q_target = r + self.gamma * self.q_table.loc[s_, :].max()\n",
    "        else:\n",
    "            q_target = r\n",
    "        self.q_table.loc[s, a] += self.lr * (q_target - q_predict)\n",
    "    \n",
    "    def get_q_table(self):\n",
    "        return self.q_table"
   ]
  },
  {
   "cell_type": "code",
   "execution_count": 6,
   "metadata": {},
   "outputs": [],
   "source": [
    "from maze_env import Maze\n",
    "def update():\n",
    "    for episode in range(100):\n",
    "        # initial observation\n",
    "        observation = env.reset()\n",
    "        done = False\n",
    "        while not done:\n",
    "            # fresh env\n",
    "            env.render()\n",
    "            \n",
    "            # RL choose action based on observation\n",
    "            action = RL.choose_action(str(observation))\n",
    "            \n",
    "            # RL take action and get next observation and reward\n",
    "            observation_, reward, done = env.step(action)\n",
    "            \n",
    "            # RL learn from this transition\n",
    "            RL.learn(str(observation), action, reward, str(observation_))\n",
    "            \n",
    "            # swap observation\n",
    "            observation = observation_\n",
    "    print(RL.get_q_table())\n",
    "    # end of game\n",
    "    print('game over')\n",
    "    env.destroy()"
   ]
  },
  {
   "cell_type": "code",
   "execution_count": 7,
   "metadata": {},
   "outputs": [
    {
     "name": "stdout",
     "output_type": "stream",
     "text": [
      "                                         0             1             2  \\\n",
      "[5.0, 5.0, 35.0, 35.0]        2.755087e-10  1.391724e-04  1.913616e-15   \n",
      "[5.0, 45.0, 35.0, 75.0]       1.605427e-08  1.103004e-03  1.282022e-08   \n",
      "[45.0, 45.0, 75.0, 75.0]      0.000000e+00 -1.990000e-02 -1.990000e-02   \n",
      "[5.0, 85.0, 35.0, 115.0]      1.340952e-06  7.388074e-03 -6.793465e-02   \n",
      "terminal                      0.000000e+00  0.000000e+00  0.000000e+00   \n",
      "[45.0, 5.0, 75.0, 35.0]       0.000000e+00  1.159129e-09  0.000000e+00   \n",
      "[5.0, 125.0, 35.0, 155.0]     2.695357e-06  6.166539e-06  4.184339e-02   \n",
      "[45.0, 125.0, 75.0, 155.0]   -2.970100e-02  1.145649e-03  1.776304e-01   \n",
      "[85.0, 125.0, 115.0, 155.0]   5.569520e-01  4.124834e-03  0.000000e+00   \n",
      "[85.0, 5.0, 115.0, 35.0]      0.000000e+00 -1.000000e-02  0.000000e+00   \n",
      "[125.0, 5.0, 155.0, 35.0]     0.000000e+00  0.000000e+00  0.000000e+00   \n",
      "[125.0, 45.0, 155.0, 75.0]    0.000000e+00  9.000000e-05  0.000000e+00   \n",
      "[125.0, 85.0, 155.0, 115.0]   0.000000e+00  0.000000e+00  0.000000e+00   \n",
      "[125.0, 125.0, 155.0, 155.0]  1.791000e-04  0.000000e+00  0.000000e+00   \n",
      "\n",
      "                                         3  \n",
      "[5.0, 5.0, 35.0, 35.0]        5.540390e-10  \n",
      "[5.0, 45.0, 35.0, 75.0]       1.442845e-06  \n",
      "[45.0, 45.0, 75.0, 75.0]      3.306310e-06  \n",
      "[5.0, 85.0, 35.0, 115.0]      7.592483e-05  \n",
      "terminal                      0.000000e+00  \n",
      "[45.0, 5.0, 75.0, 35.0]       0.000000e+00  \n",
      "[5.0, 125.0, 35.0, 155.0]     3.984315e-04  \n",
      "[45.0, 125.0, 75.0, 155.0]    2.366549e-04  \n",
      "[85.0, 125.0, 115.0, 155.0]   0.000000e+00  \n",
      "[85.0, 5.0, 115.0, 35.0]      0.000000e+00  \n",
      "[125.0, 5.0, 155.0, 35.0]     0.000000e+00  \n",
      "[125.0, 45.0, 155.0, 75.0]   -1.000000e-02  \n",
      "[125.0, 85.0, 155.0, 115.0]   2.970100e-02  \n",
      "[125.0, 125.0, 155.0, 155.0]  0.000000e+00  \n",
      "game over\n"
     ]
    }
   ],
   "source": [
    "env = Maze()\n",
    "RL = QLearningTable(actions=list(range(env.n_actions)))\n",
    "env.after(100, update)\n",
    "env.mainloop()"
   ]
  },
  {
   "cell_type": "code",
   "execution_count": null,
   "metadata": {},
   "outputs": [],
   "source": []
  }
 ],
 "metadata": {
  "kernelspec": {
   "display_name": "Python 3",
   "language": "python",
   "name": "python3"
  },
  "language_info": {
   "codemirror_mode": {
    "name": "ipython",
    "version": 3
   },
   "file_extension": ".py",
   "mimetype": "text/x-python",
   "name": "python",
   "nbconvert_exporter": "python",
   "pygments_lexer": "ipython3",
   "version": "3.7.7"
  }
 },
 "nbformat": 4,
 "nbformat_minor": 4
}
