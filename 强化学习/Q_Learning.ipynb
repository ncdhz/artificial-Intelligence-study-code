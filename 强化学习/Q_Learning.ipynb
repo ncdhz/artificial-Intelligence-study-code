{
 "cells": [
  {
   "cell_type": "code",
   "execution_count": 1,
   "metadata": {},
   "outputs": [],
   "source": [
    "import numpy as np\n",
    "import pandas as pd"
   ]
  },
  {
   "cell_type": "code",
   "execution_count": 2,
   "metadata": {},
   "outputs": [],
   "source": [
    "# This part of code is the Q learning brain, which is a brain of the agent.\n",
    "# All decisions are made in here."
   ]
  },
  {
   "cell_type": "code",
   "execution_count": 43,
   "metadata": {},
   "outputs": [],
   "source": [
    "# 每个参数的信息可以参考command_line\n",
    "class QLearningTable:\n",
    "    def __init__(self, actions, learning_rate=0.01, reward_decay=0.9, e_greedy=0.9):\n",
    "        self.actions = actions\n",
    "        self.lr = learning_rate\n",
    "        self.gamma = reward_decay\n",
    "        self.epsilon = e_greedy\n",
    "        self.q_table = pd.DataFrame(columns=self.actions, dtype=np.float64)\n",
    "    \n",
    "    def check_state_exist(self, state):\n",
    "        # self.q_table.index self.q_table的name列表\n",
    "        if state not in self.q_table.index:\n",
    "            self.q_table = self.q_table.append(\n",
    "                pd.Series(\n",
    "                    [0] * len(self.actions),\n",
    "                    index=self.q_table.columns,\n",
    "                    name=state\n",
    "                )\n",
    "            )\n",
    "    \n",
    "    def choose_action(self, observation):\n",
    "        # q_table 表中不存在就添加到表中\n",
    "        self.check_state_exist(observation)\n",
    "        # action selection\n",
    "        if np.random.uniform() < self.epsilon:\n",
    "            # 提取要操作的表中的某一行\n",
    "            state_action = self.q_table.loc[observation, :]\n",
    "            # 获取数据最大的那列的名字\n",
    "            action = np.random.choice(\n",
    "                state_action[state_action == np.max(state_action)].index\n",
    "            )\n",
    "        else:\n",
    "            action = np.random.choice(self.actions)\n",
    "        return action\n",
    "    \n",
    "    def learn(self, s, a, r, s_):\n",
    "        self.check_state_exist(s_)\n",
    "        q_predict = self.q_table.loc[s, a]\n",
    "        if s_ != 'terminal':\n",
    "            q_target = r + self.gamma * self.q_table.loc[s_, :].max()\n",
    "        else:\n",
    "            q_target = r\n",
    "        self.q_table.loc[s, a] += self.lr * (q_target - q_predict)\n",
    "        "
   ]
  },
  {
   "cell_type": "code",
   "execution_count": 44,
   "metadata": {},
   "outputs": [],
   "source": [
    "from maze_env import Maze\n",
    "def update():\n",
    "    for episode in range(100):\n",
    "        # initial observation\n",
    "        observation = env.reset()\n",
    "        done = False\n",
    "        while not done:\n",
    "            # fresh env\n",
    "            env.render()\n",
    "            \n",
    "            # RL choose action based on observation\n",
    "            action = RL.choose_action(str(observation))\n",
    "            \n",
    "            # RL take action and get next observation and reward\n",
    "            observation_, reward, done = env.step(action)\n",
    "            \n",
    "            # RL learn from this transition\n",
    "            RL.learn(str(observation), action, reward, str(observation_))\n",
    "            \n",
    "            # swap observation\n",
    "            observation = observation_\n",
    "    # end of game\n",
    "    print('game over')\n",
    "    env.destroy()"
   ]
  },
  {
   "cell_type": "code",
   "execution_count": 46,
   "metadata": {},
   "outputs": [],
   "source": [
    "env = Maze()\n",
    "RL = QLearningTable(actions=list(range(env.n_actions)))\n",
    "env.after(100, update)\n",
    "env.mainloop()"
   ]
  },
  {
   "cell_type": "code",
   "execution_count": null,
   "metadata": {},
   "outputs": [],
   "source": []
  }
 ],
 "metadata": {
  "kernelspec": {
   "display_name": "Python 3",
   "language": "python",
   "name": "python3"
  },
  "language_info": {
   "codemirror_mode": {
    "name": "ipython",
    "version": 3
   },
   "file_extension": ".py",
   "mimetype": "text/x-python",
   "name": "python",
   "nbconvert_exporter": "python",
   "pygments_lexer": "ipython3",
   "version": "3.7.7"
  }
 },
 "nbformat": 4,
 "nbformat_minor": 4
}
