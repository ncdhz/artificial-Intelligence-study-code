{
 "cells": [
  {
   "cell_type": "code",
   "execution_count": 6,
   "metadata": {},
   "outputs": [],
   "source": [
    "import gym\n",
    "from policy_gradient import PolicyGradient\n",
    "import matplotlib.pyplot as plt"
   ]
  },
  {
   "cell_type": "code",
   "execution_count": 7,
   "metadata": {},
   "outputs": [],
   "source": [
    "DISPLAY_REWARD_THRESHOLD = 500  # renders environment if total episode reward is greater then this threshold\n",
    "RENDER = False  # rendering wastes time"
   ]
  },
  {
   "cell_type": "code",
   "execution_count": 8,
   "metadata": {},
   "outputs": [],
   "source": [
    "env = gym.make('CartPole-v0')\n",
    "env = env.unwrapped"
   ]
  },
  {
   "cell_type": "code",
   "execution_count": 9,
   "metadata": {},
   "outputs": [],
   "source": [
    "RL = PolicyGradient(n_actions=env.action_space.n, n_features=env.observation_space.shape[0], learning_rate=0.02, reward_decay=0.99)"
   ]
  },
  {
   "cell_type": "code",
   "execution_count": 10,
   "metadata": {},
   "outputs": [
    {
     "name": "stdout",
     "output_type": "stream",
     "text": [
      "episode: 0  reward: 9\n"
     ]
    },
    {
     "data": {
      "image/png": "[encoded data removed]",
      "text/plain": [
       "<Figure size 432x288 with 1 Axes>"
      ]
     },
     "metadata": {
      "needs_background": "light"
     },
     "output_type": "display_data"
    },
    {
     "name": "stdout",
     "output_type": "stream",
     "text": [
      "episode: 1  reward: 9\n",
      "episode: 2  reward: 9\n",
      "episode: 3  reward: 9\n",
      "episode: 4  reward: 9\n",
      "episode: 5  reward: 10\n",
      "episode: 6  reward: 10\n",
      "episode: 7  reward: 10\n",
      "episode: 8  reward: 10\n",
      "episode: 9  reward: 11\n",
      "episode: 10  reward: 11\n",
      "episode: 11  reward: 12\n",
      "episode: 12  reward: 12\n",
      "episode: 13  reward: 12\n",
      "episode: 14  reward: 12\n",
      "episode: 15  reward: 12\n",
      "episode: 16  reward: 13\n",
      "episode: 17  reward: 13\n",
      "episode: 18  reward: 13\n",
      "episode: 19  reward: 13\n",
      "episode: 20  reward: 14\n",
      "episode: 21  reward: 14\n",
      "episode: 22  reward: 15\n",
      "episode: 23  reward: 16\n",
      "episode: 24  reward: 16\n",
      "episode: 25  reward: 16\n",
      "episode: 26  reward: 17\n",
      "episode: 27  reward: 17\n",
      "episode: 28  reward: 18\n",
      "episode: 29  reward: 18\n",
      "episode: 30  reward: 18\n",
      "episode: 31  reward: 19\n",
      "episode: 32  reward: 19\n",
      "episode: 33  reward: 19\n",
      "episode: 34  reward: 20\n",
      "episode: 35  reward: 20\n",
      "episode: 36  reward: 20\n",
      "episode: 37  reward: 20\n",
      "episode: 38  reward: 21\n",
      "episode: 39  reward: 22\n",
      "episode: 40  reward: 22\n",
      "episode: 41  reward: 24\n",
      "episode: 42  reward: 24\n",
      "episode: 43  reward: 25\n",
      "episode: 44  reward: 25\n",
      "episode: 45  reward: 26\n",
      "episode: 46  reward: 26\n",
      "episode: 47  reward: 26\n",
      "episode: 48  reward: 27\n",
      "episode: 49  reward: 27\n",
      "episode: 50  reward: 27\n",
      "episode: 51  reward: 28\n",
      "episode: 52  reward: 28\n",
      "episode: 53  reward: 29\n",
      "episode: 54  reward: 30\n",
      "episode: 55  reward: 31\n",
      "episode: 56  reward: 32\n",
      "episode: 57  reward: 33\n",
      "episode: 58  reward: 36\n",
      "episode: 59  reward: 37\n",
      "episode: 60  reward: 37\n",
      "episode: 61  reward: 38\n",
      "episode: 62  reward: 40\n",
      "episode: 63  reward: 41\n",
      "episode: 64  reward: 42\n",
      "episode: 65  reward: 44\n",
      "episode: 66  reward: 47\n",
      "episode: 67  reward: 50\n",
      "episode: 68  reward: 56\n",
      "episode: 69  reward: 70\n",
      "episode: 70  reward: 78\n",
      "episode: 71  reward: 87\n",
      "episode: 72  reward: 92\n",
      "episode: 73  reward: 99\n",
      "episode: 74  reward: 99\n",
      "episode: 75  reward: 102\n",
      "episode: 76  reward: 105\n",
      "episode: 77  reward: 109\n",
      "episode: 78  reward: 111\n",
      "episode: 79  reward: 114\n",
      "episode: 80  reward: 116\n",
      "episode: 81  reward: 120\n",
      "episode: 82  reward: 124\n",
      "episode: 83  reward: 126\n",
      "episode: 84  reward: 132\n",
      "episode: 85  reward: 137\n",
      "episode: 86  reward: 157\n",
      "episode: 87  reward: 179\n",
      "episode: 88  reward: 226\n",
      "episode: 89  reward: 239\n",
      "episode: 90  reward: 241\n",
      "episode: 91  reward: 250\n",
      "episode: 92  reward: 257\n",
      "episode: 93  reward: 258\n",
      "episode: 94  reward: 264\n",
      "episode: 95  reward: 267\n",
      "episode: 96  reward: 300\n",
      "episode: 97  reward: 303\n",
      "episode: 98  reward: 337\n",
      "episode: 99  reward: 347\n",
      "episode: 100  reward: 365\n",
      "episode: 101  reward: 384\n",
      "episode: 102  reward: 385\n",
      "episode: 103  reward: 395\n",
      "episode: 104  reward: 407\n",
      "episode: 105  reward: 421\n",
      "episode: 106  reward: 456\n",
      "episode: 107  reward: 503\n"
     ]
    }
   ],
   "source": [
    "for i_episode in range(500):\n",
    "\tobservation = env.reset()\n",
    "\n",
    "\twhile True:\n",
    "\t\tif RENDER: env.render()\n",
    "\n",
    "\t\taction = RL.choose_action(observation)\n",
    "\t\tobservation_, reward, done, info = env.step(action)\n",
    "\t\tRL.store_transition(observation, action, reward)\n",
    "\n",
    "\t\tif done:\n",
    "\t\t\tep_rs_sum = sum(RL.ep_rs)\n",
    "\n",
    "\t\t\tif 'running_reward' not in globals():\n",
    "\t\t\t\trunning_reward = ep_rs_sum\n",
    "\t\t\telse:\n",
    "\t\t\t\trunning_reward = running_reward * 0.99 + ep_rs_sum * 0.01\n",
    "\n",
    "\t\t\tif running_reward > DISPLAY_REWARD_THRESHOLD: RENDER = True # rendering\n",
    "\t\t\tprint(\"episode:\", i_episode, \" reward:\", int(running_reward))\n",
    "\n",
    "\t\t\tvt = RL.learn()\n",
    "\n",
    "\t\t\tif i_episode == 0:\n",
    "\t\t\t\tplt.plot(vt)\n",
    "\t\t\t\tplt.xlabel('episode steps')\n",
    "\t\t\t\tplt.ylabel('normalized state-action value')\n",
    "\t\t\t\tplt.show()\n",
    "\t\t\tbreak\n",
    "\n",
    "\t\tobservation = observation_\n"
   ]
  }
 ],
 "metadata": {
  "kernelspec": {
   "display_name": "Python 3.8.5 ('base')",
   "language": "python",
   "name": "python3"
  },
  "language_info": {
   "codemirror_mode": {
    "name": "ipython",
    "version": 3
   },
   "file_extension": ".py",
   "mimetype": "text/x-python",
   "name": "python",
   "nbconvert_exporter": "python",
   "pygments_lexer": "ipython3",
   "version": "3.8.5"
  },
  "orig_nbformat": 4,
  "vscode": {
   "interpreter": {
    "hash": "41012682a26ab7523e1c2229b30ca43de5762a175f7ae25c25f2d59b0d2e0e1c"
   }
  }
 },
 "nbformat": 4,
 "nbformat_minor": 2
}
