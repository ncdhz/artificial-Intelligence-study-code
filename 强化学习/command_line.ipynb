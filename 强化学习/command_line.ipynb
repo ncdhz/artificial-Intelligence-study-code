{
 "cells": [
  {
   "cell_type": "code",
   "execution_count": null,
   "metadata": {},
   "outputs": [],
   "source": [
    "# 这是一个命令行的小游戏，宝藏在最右边 T 寻找到宝藏就是胜利"
   ]
  },
  {
   "cell_type": "code",
   "execution_count": 2,
   "metadata": {},
   "outputs": [],
   "source": [
    "import numpy as np\n",
    "import pandas as pd\n",
    "import time"
   ]
  },
  {
   "cell_type": "code",
   "execution_count": 3,
   "metadata": {},
   "outputs": [],
   "source": [
    "N_STATES = 6 # the length of the 1 dimensional world\n",
    "ACTIONS = ['left', 'right'] # available actions 只能左右移动\n",
    "EPSILON = 0.9   # greedy police 0.9 的可能选择最大值\n",
    "ALPHA = 0.1 # learning rate\n",
    "GAMMA = 0.9    # discount factor\n",
    "MAX_EPISODES = 13   # maximum episodes 最多循环次数\n",
    "FRESH_TIME = 0.3    # fresh time for one move"
   ]
  },
  {
   "cell_type": "code",
   "execution_count": 4,
   "metadata": {},
   "outputs": [],
   "source": [
    "def build_q_tabel(n_states, actions):\n",
    "    table = pd.DataFrame(\n",
    "        np.zeros((n_states, len(actions))),\n",
    "        columns=actions\n",
    "    )\n",
    "    return table"
   ]
  },
  {
   "cell_type": "code",
   "execution_count": 5,
   "metadata": {},
   "outputs": [],
   "source": [
    "# return right or left\n",
    "def choose_action(state, q_table):\n",
    "    # This is how to choose an action\n",
    "    state_actions = q_table.iloc[state, :]\n",
    "    # act non-greedy or state-action have no value\n",
    "    if (np.random.uniform() > EPSILON) or ((state_actions == 0).all()):\n",
    "        action_name = np.random.choice(ACTIONS)\n",
    "    # act greedy\n",
    "    else:\n",
    "        # replace argmax to idxmax as argmax means a different function in newer version of pandas\n",
    "        action_name =state_actions.idxmax()\n",
    "    return action_name"
   ]
  },
  {
   "cell_type": "code",
   "execution_count": 6,
   "metadata": {},
   "outputs": [],
   "source": [
    "# 如果选对了给一个评分 1 选错了给评分 0 终点退出\n",
    "def get_env_feedback(S, A):\n",
    "    if A == 'right':\n",
    "        if S == N_STATES - 2:\n",
    "            S_ = 'terminal'\n",
    "            R = 1\n",
    "        else:\n",
    "            S_ = S + 1\n",
    "            R = 0\n",
    "    else:\n",
    "        R = 0\n",
    "        # reach the wall\n",
    "        if S == 0:\n",
    "            S_ = 0\n",
    "        else:\n",
    "            S_ = S - 1\n",
    "    return S_, R"
   ]
  },
  {
   "cell_type": "code",
   "execution_count": 7,
   "metadata": {},
   "outputs": [],
   "source": [
    "def update_env(S, episode, step_counter):\n",
    "    env_list = ['-']*(N_STATES - 1) + ['T']\n",
    "    if S == 'terminal':\n",
    "        interaction = 'Episode %s: total_steps = %s' % (episode+1, step_counter)\n",
    "        print('\\r{}'.format(interaction), end='')\n",
    "        time.sleep(2)\n",
    "        print('\\r                                ', end='')\n",
    "    else:\n",
    "        env_list[S] = 'o'\n",
    "        interaction = ''.join(env_list)\n",
    "        print('\\r{}'.format(interaction), end='')\n",
    "        time.sleep(FRESH_TIME)"
   ]
  },
  {
   "cell_type": "markdown",
   "metadata": {},
   "source": [
    "$$\n",
    "q_t(s_t,a_t) = q_{t-1}(s_{t-1}, a_{t-1})+\\alpha (r_t + \\gamma * max_aq_{t-1}{(s_t)}-q_{t-1}(s_{t-1},a_{t-1}))\n",
    "$$"
   ]
  },
  {
   "cell_type": "code",
   "execution_count": 8,
   "metadata": {},
   "outputs": [],
   "source": [
    "def rl():\n",
    "    q_table = build_q_tabel(N_STATES, ACTIONS)\n",
    "    for episode in range(MAX_EPISODES):\n",
    "        step_counter = 0\n",
    "        S = 0\n",
    "        is_terminated = False\n",
    "        update_env(S, episode, step_counter)\n",
    "        while not is_terminated:\n",
    "            A = choose_action(S, q_table)\n",
    "            S_, R = get_env_feedback(S, A)\n",
    "            q_predict = q_table.loc[S, A]\n",
    "            if S_ != 'terminal':\n",
    "                q_target = R + GAMMA * q_table.iloc[S_, :].max()\n",
    "            else:\n",
    "                q_target = R\n",
    "                is_terminated = True\n",
    "            q_table.loc[S, A] += ALPHA * (q_target - q_predict)\n",
    "            S = S_\n",
    "            \n",
    "            update_env(S, episode, step_counter+1)\n",
    "            step_counter += 1\n",
    "    return q_table"
   ]
  },
  {
   "cell_type": "code",
   "execution_count": 9,
   "metadata": {},
   "outputs": [
    {
     "name": "stdout",
     "output_type": "stream",
     "text": [
      "                                \n",
      "Q-table:\n",
      "\n",
      "       left     right\n",
      "0  0.000027  0.004261\n",
      "1  0.000000  0.024929\n",
      "2  0.000007  0.108445\n",
      "3  0.000000  0.340790\n",
      "4  0.000000  0.745813\n",
      "5  0.000000  0.000000\n"
     ]
    }
   ],
   "source": [
    "q_table = rl()\n",
    "print('\\r\\nQ-table:\\n')\n",
    "print(q_table)"
   ]
  },
  {
   "cell_type": "code",
   "execution_count": null,
   "metadata": {},
   "outputs": [],
   "source": []
  }
 ],
 "metadata": {
  "kernelspec": {
   "display_name": "Python 3",
   "language": "python",
   "name": "python3"
  },
  "language_info": {
   "codemirror_mode": {
    "name": "ipython",
    "version": 3
   },
   "file_extension": ".py",
   "mimetype": "text/x-python",
   "name": "python",
   "nbconvert_exporter": "python",
   "pygments_lexer": "ipython3",
   "version": "3.7.7"
  }
 },
 "nbformat": 4,
 "nbformat_minor": 4
}
