{
 "cells": [
  {
   "cell_type": "code",
   "execution_count": 1,
   "metadata": {},
   "outputs": [],
   "source": [
    "import gym\n",
    "from deep_q_network import DeepQNetwork"
   ]
  },
  {
   "cell_type": "code",
   "execution_count": 2,
   "metadata": {},
   "outputs": [],
   "source": [
    "env = gym.make('CartPole-v0')\n",
    "env = env.unwrapped"
   ]
  },
  {
   "cell_type": "code",
   "execution_count": 3,
   "metadata": {},
   "outputs": [],
   "source": [
    "RL = DeepQNetwork(n_actions=env.action_space.n, n_features=env.observation_space.shape[0], learning_rate=0.01, e_greedy=0.9, replace_target_iter=100, memory_size=2000, e_greedy_increment=0.0008)"
   ]
  },
  {
   "cell_type": "code",
   "execution_count": 4,
   "metadata": {},
   "outputs": [
    {
     "name": "stdout",
     "output_type": "stream",
     "text": [
      "episode:  0 ep_r:  2.33  epsilon:  0\n",
      "episode:  1 ep_r:  10.39  epsilon:  0\n",
      "episode:  2 ep_r:  2.19  epsilon:  0\n",
      "episode:  3 ep_r:  4.06  epsilon:  0\n",
      "episode:  4 ep_r:  1.37  epsilon:  0\n",
      "episode:  5 ep_r:  9.01  epsilon:  0\n",
      "episode:  6 ep_r:  1.46  epsilon:  0\n",
      "episode:  7 ep_r:  0.66  epsilon:  0\n",
      "episode:  8 ep_r:  3.72  epsilon:  0\n",
      "episode:  9 ep_r:  4.38  epsilon:  0\n",
      "episode:  10 ep_r:  3.05  epsilon:  0\n",
      "episode:  11 ep_r:  1.84  epsilon:  0\n",
      "episode:  12 ep_r:  7.81  epsilon:  0\n",
      "episode:  13 ep_r:  3.47  epsilon:  0\n",
      "episode:  14 ep_r:  12.61  epsilon:  0\n",
      "episode:  15 ep_r:  4.16  epsilon:  0\n",
      "episode:  16 ep_r:  0.89  epsilon:  0\n",
      "episode:  17 ep_r:  1.74  epsilon:  0\n",
      "episode:  18 ep_r:  4.87  epsilon:  0\n",
      "episode:  19 ep_r:  4.29  epsilon:  0\n",
      "episode:  20 ep_r:  2.76  epsilon:  0\n",
      "episode:  21 ep_r:  8.41  epsilon:  0\n",
      "episode:  22 ep_r:  4.93  epsilon:  0\n",
      "episode:  23 ep_r:  4.59  epsilon:  0\n",
      "episode:  24 ep_r:  8.81  epsilon:  0\n",
      "episode:  25 ep_r:  3.33  epsilon:  0\n",
      "episode:  26 ep_r:  16.85  epsilon:  0\n",
      "episode:  27 ep_r:  3.27  epsilon:  0\n",
      "episode:  28 ep_r:  4.83  epsilon:  0\n",
      "episode:  29 ep_r:  6.27  epsilon:  0\n",
      "episode:  30 ep_r:  2.47  epsilon:  0\n",
      "episode:  31 ep_r:  5.26  epsilon:  0\n",
      "episode:  32 ep_r:  2.14  epsilon:  0\n",
      "episode:  33 ep_r:  3.17  epsilon:  0\n",
      "episode:  34 ep_r:  5.49  epsilon:  0\n",
      "episode:  35 ep_r:  6.84  epsilon:  0\n",
      "episode:  36 ep_r:  3.79  epsilon:  0\n",
      "episode:  37 ep_r:  18.97  epsilon:  0\n",
      "episode:  38 ep_r:  4.86  epsilon:  0\n",
      "episode:  39 ep_r:  1.75  epsilon:  0\n",
      "episode:  40 ep_r:  3.06  epsilon:  0\n",
      "episode:  41 ep_r:  8.97  epsilon:  0\n",
      "episode:  42 ep_r:  1.53  epsilon:  0\n",
      "episode:  43 ep_r:  17.22  epsilon:  0\n",
      "episode:  44 ep_r:  3.17  epsilon:  0\n",
      "episode:  45 ep_r:  6.56  epsilon:  0\n",
      "episode:  46 ep_r:  4.17  epsilon:  0\n",
      "episode:  47 ep_r:  2.01  epsilon:  0\n",
      "episode:  48 ep_r:  18.79  epsilon:  0.0\n",
      "episode:  49 ep_r:  3.78  epsilon:  0.02\n",
      "episode:  50 ep_r:  2.74  epsilon:  0.02\n",
      "episode:  51 ep_r:  3.48  epsilon:  0.03\n",
      "episode:  52 ep_r:  3.28  epsilon:  0.07\n",
      "episode:  53 ep_r:  12.63  epsilon:  0.09\n",
      "episode:  54 ep_r:  4.71  epsilon:  0.1\n",
      "episode:  55 ep_r:  14.27  epsilon:  0.13\n",
      "episode:  56 ep_r:  16.58  epsilon:  0.18\n",
      "episode:  57 ep_r:  29.5  epsilon:  0.23\n",
      "episode:  58 ep_r:  13.5  epsilon:  0.26\n",
      "episode:  59 ep_r:  9.81  epsilon:  0.28\n",
      "episode:  60 ep_r:  14.46  epsilon:  0.32\n",
      "episode:  61 ep_r:  1.29  epsilon:  0.33\n",
      "episode:  62 ep_r:  26.02  epsilon:  0.44\n",
      "episode:  63 ep_r:  50.67  epsilon:  0.56\n",
      "episode:  64 ep_r:  87.95  epsilon:  0.72\n",
      "episode:  65 ep_r:  91.35  epsilon:  0.88\n",
      "episode:  66 ep_r:  87.64  epsilon:  0.9\n",
      "episode:  67 ep_r:  106.37  epsilon:  0.9\n",
      "episode:  68 ep_r:  126.33  epsilon:  0.9\n",
      "episode:  69 ep_r:  130.71  epsilon:  0.9\n",
      "episode:  70 ep_r:  54.34  epsilon:  0.9\n",
      "episode:  71 ep_r:  39.28  epsilon:  0.9\n",
      "episode:  72 ep_r:  36.04  epsilon:  0.9\n",
      "episode:  73 ep_r:  55.36  epsilon:  0.9\n",
      "episode:  74 ep_r:  112.2  epsilon:  0.9\n",
      "episode:  75 ep_r:  129.2  epsilon:  0.9\n",
      "episode:  76 ep_r:  119.09  epsilon:  0.9\n",
      "episode:  77 ep_r:  123.56  epsilon:  0.9\n",
      "episode:  78 ep_r:  122.33  epsilon:  0.9\n",
      "episode:  79 ep_r:  127.32  epsilon:  0.9\n",
      "episode:  80 ep_r:  125.68  epsilon:  0.9\n",
      "episode:  81 ep_r:  123.87  epsilon:  0.9\n",
      "episode:  82 ep_r:  105.24  epsilon:  0.9\n",
      "episode:  83 ep_r:  127.03  epsilon:  0.9\n",
      "episode:  84 ep_r:  119.91  epsilon:  0.9\n",
      "episode:  85 ep_r:  126.78  epsilon:  0.9\n",
      "episode:  86 ep_r:  88.88  epsilon:  0.9\n",
      "episode:  87 ep_r:  111.61  epsilon:  0.9\n",
      "episode:  88 ep_r:  123.26  epsilon:  0.9\n",
      "episode:  89 ep_r:  114.94  epsilon:  0.9\n",
      "episode:  90 ep_r:  123.46  epsilon:  0.9\n",
      "episode:  91 ep_r:  127.48  epsilon:  0.9\n",
      "episode:  92 ep_r:  115.77  epsilon:  0.9\n",
      "episode:  93 ep_r:  129.67  epsilon:  0.9\n",
      "episode:  94 ep_r:  122.75  epsilon:  0.9\n",
      "episode:  95 ep_r:  130.0  epsilon:  0.9\n",
      "episode:  96 ep_r:  120.57  epsilon:  0.9\n",
      "episode:  97 ep_r:  127.92  epsilon:  0.9\n",
      "episode:  98 ep_r:  123.02  epsilon:  0.9\n",
      "episode:  99 ep_r:  130.91  epsilon:  0.9\n"
     ]
    },
    {
     "data": {
      "image/png": "[encoded data removed]",
      "text/plain": [
       "<Figure size 432x288 with 1 Axes>"
      ]
     },
     "metadata": {
      "needs_background": "light"
     },
     "output_type": "display_data"
    }
   ],
   "source": [
    "# 记录步数\n",
    "total_steps = 0\n",
    "for i_episode in range(100):\n",
    "    # 获取回合 i_episode 第一个 observation\n",
    "    observation = env.reset()\n",
    "    ep_r = 0\n",
    "    while True:\n",
    "        # 刷新环境\n",
    "        env.render()\n",
    "        action = RL.choose_action(observation)\n",
    "        observation_, reward, done, info = env.step(action)\n",
    "        # x 是车的水平位移\n",
    "        # theta 是棒子离垂直的角度\n",
    "        x, x_dot, theta, theta_dot = observation_\n",
    "        # 车越偏离中心, 分越少\n",
    "        r1 = (env.x_threshold - abs(x)) / env.x_threshold - 0.8\n",
    "        # 棒越垂直, 分越高\n",
    "        r2 = (env.theta_threshold_radians - abs(theta)) / env.theta_threshold_radians - 0.5\n",
    "        reward = r1 + r2   # 总 reward 是 r1 和 r2 的结合, 既考虑位置, 也考虑角度, 这样 DQN 学习更有效率\n",
    "        # 保存这一组记忆\n",
    "        RL.store_transition(observation, action, reward, observation_)\n",
    "\n",
    "        if total_steps > 1000:\n",
    "            RL.learn()  # 学习\n",
    "\n",
    "        ep_r += reward\n",
    "        if done:\n",
    "            print('episode: ', i_episode,\n",
    "                  'ep_r: ', round(ep_r, 2),\n",
    "                  ' epsilon: ', round(RL.epsilon, 2))\n",
    "            break\n",
    "\n",
    "        observation = observation_\n",
    "        total_steps += 1\n",
    "# 最后输出 cost 曲线\n",
    "RL.plot_cost()\n",
    "env.close()"
   ]
  }
 ],
 "metadata": {
  "kernelspec": {
   "display_name": "Python 3.8.5 ('base')",
   "language": "python",
   "name": "python3"
  },
  "language_info": {
   "codemirror_mode": {
    "name": "ipython",
    "version": 3
   },
   "file_extension": ".py",
   "mimetype": "text/x-python",
   "name": "python",
   "nbconvert_exporter": "python",
   "pygments_lexer": "ipython3",
   "version": "3.8.5"
  },
  "orig_nbformat": 4,
  "vscode": {
   "interpreter": {
    "hash": "41012682a26ab7523e1c2229b30ca43de5762a175f7ae25c25f2d59b0d2e0e1c"
   }
  }
 },
 "nbformat": 4,
 "nbformat_minor": 2
}
