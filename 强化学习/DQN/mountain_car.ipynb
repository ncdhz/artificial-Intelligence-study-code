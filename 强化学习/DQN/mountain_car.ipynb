{
 "cells": [
  {
   "cell_type": "code",
   "execution_count": 1,
   "metadata": {},
   "outputs": [],
   "source": [
    "import gym\n",
    "from deep_q_network import DeepQNetwork"
   ]
  },
  {
   "cell_type": "code",
   "execution_count": 2,
   "metadata": {},
   "outputs": [],
   "source": [
    "env = gym.make('MountainCar-v0')\n",
    "env = env.unwrapped"
   ]
  },
  {
   "cell_type": "code",
   "execution_count": 3,
   "metadata": {},
   "outputs": [],
   "source": [
    "RL = DeepQNetwork(n_actions=3, n_features=2, learning_rate=0.001, e_greedy=0.9, replace_target_iter=300, memory_size=3000,e_greedy_increment=0.0001)"
   ]
  },
  {
   "cell_type": "code",
   "execution_count": 5,
   "metadata": {},
   "outputs": [
    {
     "name": "stdout",
     "output_type": "stream",
     "text": [
      "Epi:  0 | ---- | Ep_r:  7.6634 | Epsilon:  0.1\n",
      "Epi:  1 | ---- | Ep_r:  22.9505 | Epsilon:  0.1\n",
      "Epi:  2 | ---- | Ep_r:  15.7783 | Epsilon:  0.1\n",
      "Epi:  3 | ---- | Ep_r:  14.1696 | Epsilon:  0.1\n",
      "Epi:  4 | ---- | Ep_r:  17.5812 | Epsilon:  0.1\n",
      "Epi:  5 | ---- | Ep_r:  13.2317 | Epsilon:  0.12\n",
      "Epi:  6 | ---- | Ep_r:  9.235 | Epsilon:  0.14\n",
      "Epi:  7 | ---- | Ep_r:  13.9361 | Epsilon:  0.16\n",
      "Epi:  8 | ---- | Ep_r:  11.8429 | Epsilon:  0.18\n",
      "Epi:  9 | ---- | Ep_r:  11.2924 | Epsilon:  0.2\n",
      "Epi:  10 | ---- | Ep_r:  13.029 | Epsilon:  0.22\n",
      "Epi:  11 | ---- | Ep_r:  15.1668 | Epsilon:  0.24\n",
      "Epi:  12 | ---- | Ep_r:  17.1788 | Epsilon:  0.26\n",
      "Epi:  13 | ---- | Ep_r:  23.0827 | Epsilon:  0.28\n",
      "Epi:  14 | ---- | Ep_r:  14.9564 | Epsilon:  0.3\n",
      "Epi:  15 | ---- | Ep_r:  14.5461 | Epsilon:  0.32\n",
      "Epi:  16 | ---- | Ep_r:  15.8967 | Epsilon:  0.34\n",
      "Epi:  17 | ---- | Ep_r:  13.5401 | Epsilon:  0.36\n",
      "Epi:  18 | ---- | Ep_r:  30.8363 | Epsilon:  0.38\n",
      "Epi:  19 | ---- | Ep_r:  17.3193 | Epsilon:  0.4\n",
      "Epi:  20 | ---- | Ep_r:  17.5842 | Epsilon:  0.42\n",
      "Epi:  21 | ---- | Ep_r:  27.3143 | Epsilon:  0.44\n",
      "Epi:  22 | ---- | Ep_r:  33.4465 | Epsilon:  0.46\n",
      "Epi:  23 | ---- | Ep_r:  15.6101 | Epsilon:  0.48\n",
      "Epi:  24 | ---- | Ep_r:  18.6368 | Epsilon:  0.5\n",
      "Epi:  25 | ---- | Ep_r:  21.4305 | Epsilon:  0.52\n",
      "Epi:  26 | ---- | Ep_r:  19.8565 | Epsilon:  0.54\n",
      "Epi:  27 | ---- | Ep_r:  19.4071 | Epsilon:  0.56\n",
      "Epi:  28 | ---- | Ep_r:  21.7438 | Epsilon:  0.58\n",
      "Epi:  29 | ---- | Ep_r:  22.3922 | Epsilon:  0.6\n",
      "Epi:  30 | ---- | Ep_r:  32.8964 | Epsilon:  0.62\n",
      "Epi:  31 | ---- | Ep_r:  28.0164 | Epsilon:  0.64\n",
      "Epi:  32 | ---- | Ep_r:  22.4371 | Epsilon:  0.66\n",
      "Epi:  33 | ---- | Ep_r:  22.0658 | Epsilon:  0.68\n",
      "Epi:  34 | ---- | Ep_r:  22.6089 | Epsilon:  0.7\n",
      "Epi:  35 | ---- | Ep_r:  41.0396 | Epsilon:  0.72\n",
      "Epi:  36 | ---- | Ep_r:  25.1054 | Epsilon:  0.74\n",
      "Epi:  37 | ---- | Ep_r:  31.3512 | Epsilon:  0.76\n",
      "Epi:  38 | ---- | Ep_r:  24.4704 | Epsilon:  0.78\n",
      "Epi:  39 | ---- | Ep_r:  29.3126 | Epsilon:  0.8\n",
      "Epi:  40 | ---- | Ep_r:  26.8992 | Epsilon:  0.82\n",
      "Epi:  41 | ---- | Ep_r:  38.4146 | Epsilon:  0.84\n",
      "Epi:  42 | ---- | Ep_r:  29.2391 | Epsilon:  0.86\n",
      "Epi:  43 | ---- | Ep_r:  30.9876 | Epsilon:  0.88\n",
      "Epi:  44 | ---- | Ep_r:  39.969 | Epsilon:  0.9\n",
      "Epi:  45 | ---- | Ep_r:  30.4309 | Epsilon:  0.9\n",
      "Epi:  46 | ---- | Ep_r:  44.3562 | Epsilon:  0.9\n",
      "Epi:  47 | ---- | Ep_r:  29.7487 | Epsilon:  0.9\n",
      "Epi:  48 | ---- | Ep_r:  50.882 | Epsilon:  0.9\n",
      "Epi:  49 | ---- | Ep_r:  41.1695 | Epsilon:  0.9\n",
      "Epi:  50 | ---- | Ep_r:  30.1406 | Epsilon:  0.9\n",
      "Epi:  51 | ---- | Ep_r:  47.0151 | Epsilon:  0.9\n",
      "Epi:  52 | ---- | Ep_r:  29.6218 | Epsilon:  0.9\n",
      "Epi:  53 | ---- | Ep_r:  30.6352 | Epsilon:  0.9\n",
      "Epi:  54 | ---- | Ep_r:  52.1535 | Epsilon:  0.9\n",
      "Epi:  55 | ---- | Ep_r:  31.1942 | Epsilon:  0.9\n",
      "Epi:  56 | ---- | Ep_r:  52.2432 | Epsilon:  0.9\n",
      "Epi:  57 | ---- | Ep_r:  31.6262 | Epsilon:  0.9\n",
      "Epi:  58 | ---- | Ep_r:  31.677 | Epsilon:  0.9\n",
      "Epi:  59 | ---- | Ep_r:  32.1748 | Epsilon:  0.9\n",
      "Epi:  60 | Get | Ep_r:  56.5373 | Epsilon:  0.9\n",
      "Epi:  61 | ---- | Ep_r:  30.1434 | Epsilon:  0.9\n",
      "Epi:  62 | ---- | Ep_r:  28.3723 | Epsilon:  0.9\n",
      "Epi:  63 | Get | Ep_r:  57.133 | Epsilon:  0.9\n",
      "Epi:  64 | ---- | Ep_r:  40.316 | Epsilon:  0.9\n",
      "Epi:  65 | ---- | Ep_r:  31.6869 | Epsilon:  0.9\n",
      "Epi:  66 | ---- | Ep_r:  37.8526 | Epsilon:  0.9\n",
      "Epi:  67 | ---- | Ep_r:  31.7149 | Epsilon:  0.9\n",
      "Epi:  68 | ---- | Ep_r:  31.5478 | Epsilon:  0.9\n",
      "Epi:  69 | Get | Ep_r:  36.7708 | Epsilon:  0.9\n",
      "Epi:  70 | Get | Ep_r:  64.1243 | Epsilon:  0.9\n",
      "Epi:  71 | ---- | Ep_r:  39.9846 | Epsilon:  0.9\n",
      "Epi:  72 | Get | Ep_r:  57.0318 | Epsilon:  0.9\n",
      "Epi:  73 | Get | Ep_r:  54.3836 | Epsilon:  0.9\n",
      "Epi:  74 | Get | Ep_r:  63.5595 | Epsilon:  0.9\n",
      "Epi:  75 | Get | Ep_r:  57.6036 | Epsilon:  0.9\n",
      "Epi:  76 | Get | Ep_r:  56.751 | Epsilon:  0.9\n",
      "Epi:  77 | Get | Ep_r:  71.6848 | Epsilon:  0.9\n",
      "Epi:  78 | Get | Ep_r:  87.1653 | Epsilon:  0.9\n",
      "Epi:  79 | Get | Ep_r:  63.8998 | Epsilon:  0.9\n",
      "Epi:  80 | Get | Ep_r:  67.2618 | Epsilon:  0.9\n",
      "Epi:  81 | Get | Ep_r:  52.5887 | Epsilon:  0.9\n",
      "Epi:  82 | Get | Ep_r:  49.2197 | Epsilon:  0.9\n",
      "Epi:  83 | Get | Ep_r:  39.8592 | Epsilon:  0.9\n",
      "Epi:  84 | Get | Ep_r:  47.2048 | Epsilon:  0.9\n",
      "Epi:  85 | Get | Ep_r:  50.5823 | Epsilon:  0.9\n",
      "Epi:  86 | Get | Ep_r:  48.669 | Epsilon:  0.9\n",
      "Epi:  87 | Get | Ep_r:  38.9119 | Epsilon:  0.9\n",
      "Epi:  88 | Get | Ep_r:  62.1734 | Epsilon:  0.9\n",
      "Epi:  89 | Get | Ep_r:  52.1225 | Epsilon:  0.9\n",
      "Epi:  90 | Get | Ep_r:  68.7642 | Epsilon:  0.9\n",
      "Epi:  91 | ---- | Ep_r:  45.7553 | Epsilon:  0.9\n",
      "Epi:  92 | Get | Ep_r:  49.7454 | Epsilon:  0.9\n",
      "Epi:  93 | Get | Ep_r:  52.1033 | Epsilon:  0.9\n",
      "Epi:  94 | Get | Ep_r:  66.317 | Epsilon:  0.9\n",
      "Epi:  95 | Get | Ep_r:  75.5571 | Epsilon:  0.9\n",
      "Epi:  96 | Get | Ep_r:  45.4404 | Epsilon:  0.9\n",
      "Epi:  97 | Get | Ep_r:  48.1147 | Epsilon:  0.9\n",
      "Epi:  98 | Get | Ep_r:  47.36 | Epsilon:  0.9\n",
      "Epi:  99 | Get | Ep_r:  50.0836 | Epsilon:  0.9\n"
     ]
    },
    {
     "data": {
      "image/png": "[encoded data removed]",
      "text/plain": [
       "<Figure size 432x288 with 1 Axes>"
      ]
     },
     "metadata": {
      "needs_background": "light"
     },
     "output_type": "display_data"
    }
   ],
   "source": [
    "total_steps = 0\n",
    "for i_episode in range(100):\n",
    "\n",
    "    observation = env.reset()\n",
    "    ep_r = 0\n",
    "    while True:\n",
    "        env.render()\n",
    "\n",
    "        action = RL.choose_action(observation)\n",
    "\n",
    "        observation_, reward, done, info = env.step(action)\n",
    "\n",
    "        position, velocity = observation_\n",
    "\n",
    "        # 车开得越高 reward 越大\n",
    "        reward = abs(position - (-0.5))\n",
    "\n",
    "        RL.store_transition(observation, action, reward, observation_)\n",
    "\n",
    "        if total_steps > 1000:\n",
    "            RL.learn()\n",
    "\n",
    "        ep_r += reward\n",
    "        if done:\n",
    "            get = '| Get' if observation_[0] >= env.unwrapped.goal_position else '| ----'\n",
    "            print('Epi: ', i_episode,\n",
    "                  get,\n",
    "                  '| Ep_r: ', round(ep_r, 4),\n",
    "                  '| Epsilon: ', round(RL.epsilon, 2))\n",
    "            break\n",
    "\n",
    "        observation = observation_\n",
    "        total_steps += 1\n",
    "env.close()\n",
    "RL.plot_cost()"
   ]
  }
 ],
 "metadata": {
  "kernelspec": {
   "display_name": "Python 3.8.5 ('base')",
   "language": "python",
   "name": "python3"
  },
  "language_info": {
   "codemirror_mode": {
    "name": "ipython",
    "version": 3
   },
   "file_extension": ".py",
   "mimetype": "text/x-python",
   "name": "python",
   "nbconvert_exporter": "python",
   "pygments_lexer": "ipython3",
   "version": "3.8.5"
  },
  "orig_nbformat": 4,
  "vscode": {
   "interpreter": {
    "hash": "41012682a26ab7523e1c2229b30ca43de5762a175f7ae25c25f2d59b0d2e0e1c"
   }
  }
 },
 "nbformat": 4,
 "nbformat_minor": 2
}
