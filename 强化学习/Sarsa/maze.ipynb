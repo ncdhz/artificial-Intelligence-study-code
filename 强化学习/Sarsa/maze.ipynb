{
 "cells": [
  {
   "cell_type": "code",
   "execution_count": 1,
   "metadata": {},
   "outputs": [],
   "source": [
    "import numpy as np\n",
    "import pandas as pd"
   ]
  },
  {
   "cell_type": "code",
   "execution_count": 2,
   "metadata": {},
   "outputs": [],
   "source": [
    "class SarsaTable:\n",
    "    def __init__(self, actions, learning_rate=0.01, reward_decay=0.9, e_greedy=0.9):\n",
    "        self.actions = actions\n",
    "        self.lr = learning_rate\n",
    "        self.gamma = reward_decay\n",
    "        self.epsilon = e_greedy\n",
    "        self.table = pd.DataFrame(columns=self.actions, dtype=np.float64)\n",
    "\n",
    "    def check_state_exist(self, state):\n",
    "        # self.q_table.index self.q_table的name列表\n",
    "        if state not in self.table.index:\n",
    "            self.table = self.table.append(\n",
    "                pd.Series(\n",
    "                    [0] * len(self.actions),\n",
    "                    index=self.table.columns,\n",
    "                    name=state\n",
    "                )\n",
    "            )\n",
    "    \n",
    "    def choose_action(self, observation):\n",
    "        # q_table 表中不存在就添加到表中\n",
    "        self.check_state_exist(observation)\n",
    "        # action selection\n",
    "        if np.random.uniform() < self.epsilon:\n",
    "            # 提取要操作的表中的某一行\n",
    "            state_action = self.table.loc[observation, :]\n",
    "            # 获取数据最大的那列的名字\n",
    "            action = np.random.choice(\n",
    "                state_action[state_action == np.max(state_action)].index\n",
    "            )\n",
    "        else:\n",
    "            action = np.random.choice(self.actions)\n",
    "        return action\n",
    "\n",
    "    def learn(self, s, a, r, s_, a_):\n",
    "        self.check_state_exist(s_)\n",
    "        predict = self.table.loc[s, a]\n",
    "        if s_ != 'terminal':\n",
    "            target = r + self.gamma * self.table.loc[s_, a_]\n",
    "        else:\n",
    "            target = r\n",
    "        self.table.loc[s, a] += self.lr * (target - predict)\n",
    "\n",
    "    def get_table(self):\n",
    "        return self.table"
   ]
  },
  {
   "cell_type": "code",
   "execution_count": 3,
   "metadata": {},
   "outputs": [],
   "source": [
    "def update(env, RL):\n",
    "    def __update():\n",
    "        for episode in range(30):\n",
    "            # initial observation\n",
    "            observation = env.reset()\n",
    "            action = RL.choose_action(str(observation))\n",
    "            while True:\n",
    "                # fresh env\n",
    "                env.render()\n",
    "                \n",
    "                # RL take action and get next observation and reward\n",
    "                observation_, reward, done = env.step(action)\n",
    "\n",
    "                # RL choose action based on observation\n",
    "                action_ = RL.choose_action(str(observation_))\n",
    "                \n",
    "                # RL learn from this transition\n",
    "                RL.learn(str(observation), action, reward, str(observation_), action_)\n",
    "                \n",
    "                # swap observation\n",
    "                observation = observation_\n",
    "\n",
    "                action = action_\n",
    "                \n",
    "                if done:\n",
    "                    break\n",
    "        \n",
    "        print(RL.get_table())\n",
    "        # end of game\n",
    "        print('game over')\n",
    "        env.destroy()\n",
    "    return __update"
   ]
  },
  {
   "cell_type": "code",
   "execution_count": 4,
   "metadata": {},
   "outputs": [
    {
     "name": "stdout",
     "output_type": "stream",
     "text": [
      "                                         0             1             2  \\\n",
      "[5.0, 5.0, 35.0, 35.0]       -1.517835e-06 -4.643003e-06 -8.448003e-06   \n",
      "[45.0, 5.0, 75.0, 35.0]      -3.091857e-06 -2.533696e-04 -8.388588e-05   \n",
      "[85.0, 5.0, 115.0, 35.0]     -1.791000e-04 -2.970100e-02  6.470028e-11   \n",
      "terminal                      0.000000e+00  0.000000e+00  0.000000e+00   \n",
      "[5.0, 45.0, 35.0, 75.0]      -1.084632e-06 -8.136788e-05 -8.473336e-05   \n",
      "[5.0, 85.0, 35.0, 115.0]     -1.461356e-09  2.387183e-06 -1.990000e-02   \n",
      "[45.0, 45.0, 75.0, 75.0]     -1.849473e-08 -2.970100e-02 -1.990000e-02   \n",
      "[125.0, 5.0, 155.0, 35.0]     4.080463e-12  1.185826e-08  0.000000e+00   \n",
      "[5.0, 125.0, 35.0, 155.0]     0.000000e+00  8.969464e-07  2.031502e-04   \n",
      "[45.0, 125.0, 75.0, 155.0]   -1.000000e-02  0.000000e+00  7.761319e-03   \n",
      "[85.0, 125.0, 115.0, 155.0]   1.654862e-01  0.000000e+00  0.000000e+00   \n",
      "[125.0, 45.0, 155.0, 75.0]    0.000000e+00  1.515390e-06  0.000000e+00   \n",
      "[125.0, 85.0, 155.0, 115.0]   0.000000e+00  1.185148e-04  1.450710e-08   \n",
      "[125.0, 125.0, 155.0, 155.0]  5.778698e-07  0.000000e+00  0.000000e+00   \n",
      "\n",
      "                                         3  \n",
      "[5.0, 5.0, 35.0, 35.0]       -1.690898e-06  \n",
      "[45.0, 5.0, 75.0, 35.0]      -9.732097e-07  \n",
      "[85.0, 5.0, 115.0, 35.0]     -3.067557e-10  \n",
      "terminal                      0.000000e+00  \n",
      "[5.0, 45.0, 35.0, 75.0]      -1.540748e-06  \n",
      "[5.0, 85.0, 35.0, 115.0]      0.000000e+00  \n",
      "[45.0, 45.0, 75.0, 75.0]     -7.608879e-07  \n",
      "[125.0, 5.0, 155.0, 35.0]     0.000000e+00  \n",
      "[5.0, 125.0, 35.0, 155.0]     7.290000e-09  \n",
      "[45.0, 125.0, 75.0, 155.0]    0.000000e+00  \n",
      "[85.0, 125.0, 115.0, 155.0]   0.000000e+00  \n",
      "[125.0, 45.0, 155.0, 75.0]   -1.000000e-02  \n",
      "[125.0, 85.0, 155.0, 115.0]   0.000000e+00  \n",
      "[125.0, 125.0, 155.0, 155.0]  4.936942e-03  \n",
      "game over\n"
     ]
    }
   ],
   "source": [
    "from maze_env import Maze\n",
    "env = Maze()\n",
    "RL = SarsaTable(actions=list(range(env.n_actions)))\n",
    "env.after(100, update(env, RL))\n",
    "env.mainloop()"
   ]
  },
  {
   "cell_type": "code",
   "execution_count": null,
   "metadata": {},
   "outputs": [],
   "source": []
  }
 ],
 "metadata": {
  "kernelspec": {
   "display_name": "Python 3.8.5 ('base')",
   "language": "python",
   "name": "python3"
  },
  "language_info": {
   "codemirror_mode": {
    "name": "ipython",
    "version": 3
   },
   "file_extension": ".py",
   "mimetype": "text/x-python",
   "name": "python",
   "nbconvert_exporter": "python",
   "pygments_lexer": "ipython3",
   "version": "3.8.5"
  },
  "orig_nbformat": 4,
  "vscode": {
   "interpreter": {
    "hash": "41012682a26ab7523e1c2229b30ca43de5762a175f7ae25c25f2d59b0d2e0e1c"
   }
  }
 },
 "nbformat": 4,
 "nbformat_minor": 2
}
