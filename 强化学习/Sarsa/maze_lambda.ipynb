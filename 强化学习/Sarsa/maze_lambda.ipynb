{
 "cells": [
  {
   "cell_type": "code",
   "execution_count": 1,
   "metadata": {},
   "outputs": [],
   "source": [
    "import numpy as np\n",
    "import pandas as pd"
   ]
  },
  {
   "cell_type": "code",
   "execution_count": 2,
   "metadata": {},
   "outputs": [],
   "source": [
    "class SarsaLambdaTable:\n",
    "    def __init__(self, actions, learning_rate=0.01, reward_decay=0.9, e_greedy=0.9, trace_decay=0.9):\n",
    "        self.actions = actions\n",
    "        self.lr = learning_rate\n",
    "        self.gamma = reward_decay\n",
    "        self.epsilon = e_greedy\n",
    "        self.table = pd.DataFrame(columns=self.actions, dtype=np.float64)\n",
    "        self.lambda_ = trace_decay\n",
    "        self.eligibility_trace = self.table.copy()\n",
    "\n",
    "    def check_state_exist(self, state):\n",
    "        if state not in self.table.index:\n",
    "            s = pd.Series(\n",
    "                [0] * len(self.actions),\n",
    "                index=self.table.columns,\n",
    "                name=state\n",
    "            )\n",
    "            self.table = self.table.append(s)\n",
    "            self.eligibility_trace = self.eligibility_trace.append(s)\n",
    "    \n",
    "    def choose_action(self, observation):\n",
    "        # q_table 表中不存在就添加到表中\n",
    "        self.check_state_exist(observation)\n",
    "        # action selection\n",
    "        if np.random.uniform() < self.epsilon:\n",
    "            # 提取要操作的表中的某一行\n",
    "            state_action = self.table.loc[observation, :]\n",
    "            # 获取数据最大的那列的名字\n",
    "            action = np.random.choice(\n",
    "                state_action[state_action == np.max(state_action)].index\n",
    "            )\n",
    "        else:\n",
    "            action = np.random.choice(self.actions)\n",
    "        return action\n",
    "    \n",
    "    def learn(self, s, a, r, s_, a_):\n",
    "        self.check_state_exist(s_)\n",
    "        predict = self.table.loc[s, a]\n",
    "        if s_ != 'terminal':\n",
    "            target = r + self.gamma * self.table.loc[s_, a_]\n",
    "        else:\n",
    "            target = r\n",
    "        error = target - predict\n",
    "\n",
    "        #Method 1\n",
    "        # self.eligibility_trace.loc[s, a] += 1\n",
    "\n",
    "        #Method 2\n",
    "        self.eligibility_trace.loc[s, :] = 0\n",
    "        self.eligibility_trace.loc[s, a] = 1 \n",
    "\n",
    "        # Q update\n",
    "        self.table += self.lr * error * self.eligibility_trace\n",
    "\n",
    "        # decay eligibility trace after update\n",
    "        self.eligibility_trace *= self.gamma * self.lambda_\n",
    "    \n",
    "    def get_table(self):\n",
    "        return self.table"
   ]
  },
  {
   "cell_type": "code",
   "execution_count": 5,
   "metadata": {},
   "outputs": [],
   "source": [
    "def update(env, RL):\n",
    "    def __update():\n",
    "        for episode in range(100):\n",
    "            # initial observation\n",
    "            observation = env.reset()\n",
    "            action = RL.choose_action(str(observation))\n",
    "            while True:\n",
    "                # fresh env\n",
    "                env.render()\n",
    "                \n",
    "                # RL take action and get next observation and reward\n",
    "                observation_, reward, done = env.step(action)\n",
    "\n",
    "                # RL choose action based on observation\n",
    "                action_ = RL.choose_action(str(observation_))\n",
    "                \n",
    "                # RL learn from this transition\n",
    "                RL.learn(str(observation), action, reward, str(observation_), action_)\n",
    "                \n",
    "                # swap observation\n",
    "                observation = observation_\n",
    "\n",
    "                action = action_\n",
    "                \n",
    "                if done:\n",
    "                    break\n",
    "        \n",
    "        print(RL.get_table())\n",
    "        # end of game\n",
    "        print('game over')\n",
    "        env.destroy()\n",
    "    return __update"
   ]
  },
  {
   "cell_type": "code",
   "execution_count": 6,
   "metadata": {},
   "outputs": [
    {
     "name": "stdout",
     "output_type": "stream",
     "text": [
      "                                         0         1             2         3\n",
      "[5.0, 5.0, 35.0, 35.0]        1.580754e-03  0.187176  2.319580e-03  0.002752\n",
      "[5.0, 45.0, 35.0, 75.0]       1.364543e-03  0.221277 -2.320020e-02 -0.001743\n",
      "[45.0, 5.0, 75.0, 35.0]      -1.041214e-03 -0.013651 -2.205749e-02  0.017363\n",
      "[45.0, 45.0, 75.0, 75.0]     -3.383466e-03 -0.040573 -1.990228e-02  0.004024\n",
      "terminal                      0.000000e+00  0.000000  0.000000e+00  0.000000\n",
      "[5.0, 85.0, 35.0, 115.0]     -3.590606e-04  0.303118 -8.648015e-02  0.001662\n",
      "[5.0, 125.0, 35.0, 155.0]    -6.551561e-03  0.001072  3.655094e-01  0.004587\n",
      "[45.0, 125.0, 75.0, 155.0]   -1.919202e-02  0.001368  4.581667e-01  0.002023\n",
      "[85.0, 5.0, 115.0, 35.0]     -3.570454e-04 -0.048982 -1.485809e-03 -0.000150\n",
      "[125.0, 5.0, 155.0, 35.0]    -2.516212e-05 -0.002759 -2.537675e-05 -0.008101\n",
      "[125.0, 45.0, 155.0, 75.0]   -2.354480e-09  0.002298 -1.215553e-08 -0.009998\n",
      "[125.0, 85.0, 155.0, 115.0]  -8.017594e-03  0.002839 -7.288721e-05  0.000000\n",
      "[85.0, 125.0, 115.0, 155.0]   5.581126e-01  0.004859  4.006190e-03  0.000000\n",
      "[125.0, 125.0, 155.0, 155.0] -4.782158e-06  0.000000  0.000000e+00  0.025663\n",
      "game over\n"
     ]
    }
   ],
   "source": [
    "from maze_env import Maze\n",
    "env = Maze()\n",
    "RL = SarsaLambdaTable(actions=list(range(env.n_actions)))\n",
    "env.after(20, update(env, RL))\n",
    "env.mainloop()"
   ]
  }
 ],
 "metadata": {
  "kernelspec": {
   "display_name": "Python 3.8.5 ('base')",
   "language": "python",
   "name": "python3"
  },
  "language_info": {
   "codemirror_mode": {
    "name": "ipython",
    "version": 3
   },
   "file_extension": ".py",
   "mimetype": "text/x-python",
   "name": "python",
   "nbconvert_exporter": "python",
   "pygments_lexer": "ipython3",
   "version": "3.8.5"
  },
  "orig_nbformat": 4,
  "vscode": {
   "interpreter": {
    "hash": "41012682a26ab7523e1c2229b30ca43de5762a175f7ae25c25f2d59b0d2e0e1c"
   }
  }
 },
 "nbformat": 4,
 "nbformat_minor": 2
}
