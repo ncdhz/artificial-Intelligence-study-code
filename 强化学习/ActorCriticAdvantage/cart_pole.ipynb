{
 "cells": [],
 "metadata": {
  "kernelspec": {
   "display_name": "Python 3.8.5 ('base')",
   "language": "python",
   "name": "python3"
  },
  "language_info": {
   "codemirror_mode": {
    "name": "ipython",
    "version": 3
   },
   "file_extension": ".py",
   "mimetype": "text/x-python",
   "name": "python",
   "nbconvert_exporter": "python",
   "pygments_lexer": "ipython3",
   "version": "3.8.5"
  },
  "orig_nbformat": 4,
  "vscode": {
   "interpreter": {
    "hash": "41012682a26ab7523e1c2229b30ca43de5762a175f7ae25c25f2d59b0d2e0e1c"
   }
  }
 },
 "nbformat": 4,
 "nbformat_minor": 2
}
