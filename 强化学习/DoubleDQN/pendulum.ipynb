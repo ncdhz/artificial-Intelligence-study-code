{
 "cells": [
  {
   "cell_type": "code",
   "execution_count": 1,
   "metadata": {},
   "outputs": [],
   "source": [
    "from double_dqn import DoubleDQN\n",
    "import gym"
   ]
  },
  {
   "cell_type": "code",
   "execution_count": 2,
   "metadata": {},
   "outputs": [],
   "source": [
    "env = gym.make('Pendulum-v0')\n",
    "env = env.unwrapped"
   ]
  },
  {
   "cell_type": "code",
   "execution_count": 4,
   "metadata": {},
   "outputs": [],
   "source": [
    "ACTION_SPACE = 11\n",
    "RL = DoubleDQN(n_actions=ACTION_SPACE, n_features=3, memory_size=3000, e_greedy_increment=0.001)"
   ]
  },
  {
   "cell_type": "code",
   "execution_count": 5,
   "metadata": {},
   "outputs": [
    {
     "data": {
      "image/png": "[encoded data removed]",
      "text/plain": [
       "<Figure size 432x288 with 1 Axes>"
      ]
     },
     "metadata": {
      "needs_background": "light"
     },
     "output_type": "display_data"
    }
   ],
   "source": [
    "observation = env.reset()\n",
    "total_steps = 0\n",
    "while True:\n",
    "    env.render()\n",
    "    action = RL.choose_action(observation)\n",
    "    f_action = -2 + 4 / (ACTION_SPACE - 1) * action # convert to [-2 ~ 2] float actions\n",
    "    observation_, reward, done, info = env.step([f_action])\n",
    "\n",
    "    # normalize 到这个区间 (-1, 0). 立起来的时候 reward = 0.\n",
    "    # 立起来以后的 Q target 会变成 0, 因为 Q_target = r + gamma * Qmax(s', a') = 0 + gamma * 0\n",
    "    # 所以这个状态时的 Q 值大于 0 时, 就出现了 overestimate.\n",
    "    reward /= 10\n",
    "\n",
    "    RL.store_transition(observation, action, reward, observation_)\n",
    "\n",
    "    if total_steps > 2000:\n",
    "        RL.learn()\n",
    "\n",
    "    if total_steps - 2000 > 20000:\n",
    "        break\n",
    "\n",
    "    observation = observation_\n",
    "    total_steps += 1\n",
    "env.close()\n",
    "RL.plot_cost()"
   ]
  },
  {
   "cell_type": "code",
   "execution_count": null,
   "metadata": {},
   "outputs": [],
   "source": []
  }
 ],
 "metadata": {
  "kernelspec": {
   "display_name": "Python 3.8.5 ('base')",
   "language": "python",
   "name": "python3"
  },
  "language_info": {
   "codemirror_mode": {
    "name": "ipython",
    "version": 3
   },
   "file_extension": ".py",
   "mimetype": "text/x-python",
   "name": "python",
   "nbconvert_exporter": "python",
   "pygments_lexer": "ipython3",
   "version": "3.8.5"
  },
  "orig_nbformat": 4,
  "vscode": {
   "interpreter": {
    "hash": "41012682a26ab7523e1c2229b30ca43de5762a175f7ae25c25f2d59b0d2e0e1c"
   }
  }
 },
 "nbformat": 4,
 "nbformat_minor": 2
}
